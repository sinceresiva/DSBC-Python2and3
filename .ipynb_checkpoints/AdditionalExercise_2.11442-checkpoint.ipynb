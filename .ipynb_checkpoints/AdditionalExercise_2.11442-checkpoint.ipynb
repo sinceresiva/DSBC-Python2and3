{
 "cells": [
  {
   "cell_type": "code",
   "execution_count": 1,
   "metadata": {},
   "outputs": [],
   "source": [
    "##The function \"echo_name\" takes 2 parameters: a string value, \"name1\"and an integer value, \"echo_int\". \n",
    "##It returns a string that is a concatenation of \"echo_int\" copies of \"name1\".\n",
    "##Your task is to convert this simple function into a lambda function."
   ]
  },
  {
   "cell_type": "code",
   "execution_count": 8,
   "metadata": {},
   "outputs": [
    {
     "name": "stdout",
     "output_type": "stream",
     "text": [
      "acadgildacadgildacadgildacadgildacadgild\n"
     ]
    }
   ],
   "source": [
    "# Define a lambda function: echo_name\n",
    "echo_name = (lambda name1, echo_int:name1*echo_int )\n",
    "# Call echo_name with parameters (\"acadgild\",5)\n",
    "result = echo_name (\"acadgild\",5)\n",
    "# Print result\n",
    "print(result)"
   ]
  },
  {
   "cell_type": "code",
   "execution_count": 9,
   "metadata": {},
   "outputs": [],
   "source": [
    "##Convert temperature in Celsius to Fahrenheit using map() and lambda functions"
   ]
  },
  {
   "cell_type": "code",
   "execution_count": 11,
   "metadata": {},
   "outputs": [
    {
     "name": "stdout",
     "output_type": "stream",
     "text": [
      "[120.56, 79.7, 117.14, 118.03999999999999]\n"
     ]
    }
   ],
   "source": [
    "# Initialize list\n",
    "Celsius = [49.2, 26.5, 47.3, 47.8]\n",
    "#use map() and lambda,convert to Fahrenheit\n",
    "#map(function,list)\n",
    "Fahrenheit = list(map(lambda tempInCelcius: tempInCelcius * 1.8 + 32, Celsius))\n",
    "#print Fahrenheit\n",
    "print(Fahrenheit)"
   ]
  },
  {
   "cell_type": "code",
   "execution_count": 12,
   "metadata": {},
   "outputs": [],
   "source": [
    "##print the letters that are vowels using filter and lambda functions\n",
    "##sample_string = \"Welcome to AcadGild\"\n",
    "##Expected Output: ['e', 'o', 'e', 'o', 'A', 'a', 'i']"
   ]
  },
  {
   "cell_type": "code",
   "execution_count": 16,
   "metadata": {},
   "outputs": [
    {
     "name": "stdout",
     "output_type": "stream",
     "text": [
      "['e', 'o', 'e', 'o', 'A', 'a', 'i']\n"
     ]
    }
   ],
   "source": [
    "sample_string = \"Welcome to AcadGild\"\n",
    "lst=list(filter(lambda c: c.lower()=='a' or c.lower()=='e' or c.lower()=='i' or c.lower()=='o' or c.lower()=='u', sample_string))\n",
    "print(lst)"
   ]
  },
  {
   "cell_type": "code",
   "execution_count": 18,
   "metadata": {},
   "outputs": [],
   "source": [
    "##Use generator expression to print out only alphabets from the following string\n",
    "##string = \"123@Welc34ometo12@ac#adGild\"\n",
    "##Expected Output: 'WelcometoacadGild'"
   ]
  },
  {
   "cell_type": "code",
   "execution_count": 32,
   "metadata": {},
   "outputs": [
    {
     "name": "stdout",
     "output_type": "stream",
     "text": [
      "WelcometoacadGild\n"
     ]
    }
   ],
   "source": [
    "def extractAlphabets(sample_string):\n",
    "    for c in sample_string:\n",
    "        if c.isalpha():\n",
    "            yield c\n",
    "\n",
    "string = \"123@Welc34ometo12@ac#adGild\"\n",
    "result = extractAlphabets(string)\n",
    "print(''.join(result))           "
   ]
  },
  {
   "cell_type": "code",
   "execution_count": 47,
   "metadata": {},
   "outputs": [],
   "source": [
    "##Implement a function longestWord() that takes a list of words and returns the longest one."
   ]
  },
  {
   "cell_type": "code",
   "execution_count": 46,
   "metadata": {},
   "outputs": [
    {
     "name": "stdout",
     "output_type": "stream",
     "text": [
      "['Feburary']\n"
     ]
    }
   ],
   "source": [
    "word= [\"January\",\"Feburary\",\"March\",\"April\",\"May\",\"June\",\"July\"]\n",
    "\n",
    "#define function named longestWord with one parameter (arg_word)\n",
    "def longestWord(arg_word):\n",
    "    #use len(max()) to apply the logic\n",
    "    max_len = len(max(arg_word, key=len))\n",
    "    # iterate over the list arg_word and check which word has length = max_len and print\n",
    "    return [x for x in arg_word if len(x) == max_len]\n",
    "\n",
    "#function call : longestWord and pass the list \"word\" as the parameter\n",
    "print(longestWord(word))"
   ]
  }
 ],
 "metadata": {
  "kernelspec": {
   "display_name": "Python 3",
   "language": "python",
   "name": "python3"
  },
  "language_info": {
   "codemirror_mode": {
    "name": "ipython",
    "version": 3
   },
   "file_extension": ".py",
   "mimetype": "text/x-python",
   "name": "python",
   "nbconvert_exporter": "python",
   "pygments_lexer": "ipython3",
   "version": "3.6.5"
  }
 },
 "nbformat": 4,
 "nbformat_minor": 2
}
